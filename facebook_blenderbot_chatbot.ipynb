{
 "cells": [
  {
   "cell_type": "code",
   "execution_count": 1,
   "id": "442d9e1c-e0fe-4edf-9d7e-9dc4c4b340f6",
   "metadata": {},
   "outputs": [
    {
     "name": "stdout",
     "output_type": "stream",
     "text": [
      "# packages in environment at /Users/nicolehall/anaconda3/envs/nlp-env:\n",
      "#\n",
      "# Name                    Version                   Build  Channel\n",
      "annotated-types           0.6.0           py311hecd8cb5_0  \n",
      "anyio                     4.2.0           py311hecd8cb5_0  \n",
      "appnope                   0.1.2           py311hecd8cb5_1001  \n",
      "argon2-cffi               21.3.0             pyhd3eb1b0_0  \n",
      "argon2-cffi-bindings      21.2.0          py311h6c40b1e_0  \n",
      "asttokens                 2.0.5              pyhd3eb1b0_0  \n",
      "async-lru                 2.0.4           py311hecd8cb5_0  \n",
      "attrs                     23.1.0          py311hecd8cb5_0  \n",
      "babel                     2.11.0          py311hecd8cb5_0  \n",
      "beautifulsoup4            4.12.2          py311hecd8cb5_0  \n",
      "blas                      1.0                         mkl  \n",
      "bleach                    4.1.0              pyhd3eb1b0_0  \n",
      "bottleneck                1.3.7           py311hb3a5e46_0  \n",
      "brotli-python             1.0.9           py311hcec6c5f_7  \n",
      "bzip2                     1.0.8                h6c40b1e_5  \n",
      "ca-certificates           2024.3.11            hecd8cb5_0  \n",
      "certifi                   2024.2.2        py311hecd8cb5_0  \n",
      "cffi                      1.16.0          py311h6c40b1e_0  \n",
      "charset-normalizer        2.0.4              pyhd3eb1b0_0  \n",
      "comm                      0.2.1           py311hecd8cb5_0  \n",
      "cyrus-sasl                2.1.28               h3973f50_1  \n",
      "debugpy                   1.6.7           py311hcec6c5f_0  \n",
      "decorator                 5.1.1              pyhd3eb1b0_0  \n",
      "defusedxml                0.7.1              pyhd3eb1b0_0  \n",
      "distro                    1.8.0           py311hecd8cb5_0  \n",
      "executing                 0.8.3              pyhd3eb1b0_0  \n",
      "filelock                  3.13.1          py311hecd8cb5_0  \n",
      "fsspec                    2023.10.0       py311hecd8cb5_0  \n",
      "gettext                   0.21.0               he85b6c0_1  \n",
      "glib                      2.78.4               hcec6c5f_0  \n",
      "glib-tools                2.78.4               hcec6c5f_0  \n",
      "gmp                       6.2.1                he9d5cce_3  \n",
      "gmpy2                     2.1.2           py311h1c2e9e1_0  \n",
      "gst-plugins-base          1.14.1               hcec6c5f_1  \n",
      "gstreamer                 1.14.1               h6c40b1e_1  \n",
      "h11                       0.14.0          py311hecd8cb5_0  \n",
      "httpcore                  1.0.2           py311hecd8cb5_0  \n",
      "httpx                     0.26.0          py311hecd8cb5_0  \n",
      "huggingface_hub           0.20.3          py311hecd8cb5_0  \n",
      "icu                       73.1                 hcec6c5f_0  \n",
      "idna                      3.4             py311hecd8cb5_0  \n",
      "importlib-metadata        7.0.1           py311hecd8cb5_0  \n",
      "intel-openmp              2023.1.0         ha357a0b_43548  \n",
      "ipykernel                 6.28.0          py311hecd8cb5_0  \n",
      "ipython                   8.20.0          py311hecd8cb5_0  \n",
      "ipywidgets                8.1.2           py311hecd8cb5_0  \n",
      "jedi                      0.18.1          py311hecd8cb5_1  \n",
      "jinja2                    3.1.3           py311hecd8cb5_0  \n",
      "jpeg                      9e                   h6c40b1e_1  \n",
      "json5                     0.9.6              pyhd3eb1b0_0  \n",
      "jsonschema                4.19.2          py311hecd8cb5_0  \n",
      "jsonschema-specifications 2023.7.1        py311hecd8cb5_0  \n",
      "jupyter                   1.0.0           py311hecd8cb5_9  \n",
      "jupyter-lsp               2.2.0           py311hecd8cb5_0  \n",
      "jupyter_client            8.6.0           py311hecd8cb5_0  \n",
      "jupyter_console           6.6.3           py311hecd8cb5_0  \n",
      "jupyter_core              5.5.0           py311hecd8cb5_0  \n",
      "jupyter_events            0.8.0           py311hecd8cb5_0  \n",
      "jupyter_server            2.10.0          py311hecd8cb5_0  \n",
      "jupyter_server_terminals  0.4.4           py311hecd8cb5_1  \n",
      "jupyterlab                4.0.11          py311hecd8cb5_0  \n",
      "jupyterlab_pygments       0.1.2                      py_0  \n",
      "jupyterlab_server         2.25.1          py311hecd8cb5_0  \n",
      "jupyterlab_widgets        3.0.10          py311hecd8cb5_0  \n",
      "krb5                      1.20.1               h428f121_1  \n",
      "libclang                  14.0.6          default_hd95374b_1  \n",
      "libclang13                14.0.6          default_habbcc1a_1  \n",
      "libcxx                    14.0.6               h9765a3e_0  \n",
      "libedit                   3.1.20230828         h6c40b1e_0  \n",
      "libffi                    3.4.4                hecd8cb5_0  \n",
      "libglib                   2.78.4               h19e1a8f_0  \n",
      "libiconv                  1.16                 hca72f7f_2  \n",
      "libllvm14                 14.0.6               h91fad77_3  \n",
      "libpng                    1.6.39               h6c40b1e_0  \n",
      "libpq                     12.17                h04015c4_0  \n",
      "libprotobuf               3.20.3               hfff2838_0  \n",
      "libsodium                 1.0.18               h1de35cc_0  \n",
      "libuv                     1.44.2               h6c40b1e_0  \n",
      "libxml2                   2.10.4               h1bd7e62_1  \n",
      "llvm-openmp               14.0.6               h0dcd299_0  \n",
      "lz4-c                     1.9.4                hcec6c5f_0  \n",
      "markupsafe                2.1.3           py311h6c40b1e_0  \n",
      "matplotlib-inline         0.1.6           py311hecd8cb5_0  \n",
      "mistune                   2.0.4           py311hecd8cb5_0  \n",
      "mkl                       2023.1.0         h8e150cf_43560  \n",
      "mkl-service               2.4.0           py311h6c40b1e_1  \n",
      "mkl_fft                   1.3.8           py311h6c40b1e_0  \n",
      "mkl_random                1.2.4           py311ha357a0b_0  \n",
      "mpc                       1.1.0                h6ef4df4_1  \n",
      "mpfr                      4.0.2                h9066e36_1  \n",
      "mpmath                    1.3.0           py311hecd8cb5_0  \n",
      "mysql                     5.7.24               h1a8d504_2  \n",
      "nbclient                  0.8.0           py311hecd8cb5_0  \n",
      "nbconvert                 7.10.0          py311hecd8cb5_0  \n",
      "nbformat                  5.9.2           py311hecd8cb5_0  \n",
      "ncurses                   6.4                  hcec6c5f_0  \n",
      "nest-asyncio              1.6.0           py311hecd8cb5_0  \n",
      "networkx                  3.1             py311hecd8cb5_0  \n",
      "ninja                     1.10.2               hecd8cb5_5  \n",
      "ninja-base                1.10.2               haf03e11_5  \n",
      "notebook                  7.0.8           py311hecd8cb5_0  \n",
      "notebook-shim             0.2.3           py311hecd8cb5_0  \n",
      "numexpr                   2.8.7           py311h728a8a3_0  \n",
      "numpy                     1.26.4          py311h728a8a3_0  \n",
      "numpy-base                1.26.4          py311h53bf9ac_0  \n",
      "openai                    1.9.0           py311hecd8cb5_0  \n",
      "openssl                   3.0.13               hca72f7f_0  \n",
      "overrides                 7.4.0           py311hecd8cb5_0  \n",
      "packaging                 23.1            py311hecd8cb5_0  \n",
      "pandas                    2.2.1           py311hdb55bb0_0  \n",
      "pandas-stubs              2.1.4.231227    py311hecd8cb5_0  \n",
      "pandocfilters             1.5.0              pyhd3eb1b0_0  \n",
      "parso                     0.8.3              pyhd3eb1b0_0  \n",
      "pcre2                     10.42                h9b97e30_0  \n",
      "pexpect                   4.8.0              pyhd3eb1b0_3  \n",
      "pip                       23.3.1          py311hecd8cb5_0  \n",
      "platformdirs              3.10.0          py311hecd8cb5_0  \n",
      "ply                       3.11            py311hecd8cb5_0  \n",
      "prometheus_client         0.14.1          py311hecd8cb5_0  \n",
      "prompt-toolkit            3.0.43          py311hecd8cb5_0  \n",
      "prompt_toolkit            3.0.43               hd3eb1b0_0  \n",
      "psutil                    5.9.0           py311h6c40b1e_0  \n",
      "ptyprocess                0.7.0              pyhd3eb1b0_2  \n",
      "pure_eval                 0.2.2              pyhd3eb1b0_0  \n",
      "pycparser                 2.21               pyhd3eb1b0_0  \n",
      "pydantic                  2.5.3           py311hecd8cb5_0  \n",
      "pydantic-core             2.14.6          py311hf2ad997_0  \n",
      "pygments                  2.15.1          py311hecd8cb5_1  \n",
      "pyqt                      5.15.10         py311hcec6c5f_0  \n",
      "pyqt5-sip                 12.13.0         py311h6c40b1e_0  \n",
      "pysocks                   1.7.1           py311hecd8cb5_0  \n",
      "python                    3.11.8               hf27a42d_0  \n",
      "python-dateutil           2.8.2              pyhd3eb1b0_0  \n",
      "python-fastjsonschema     2.16.2          py311hecd8cb5_0  \n",
      "python-json-logger        2.0.7           py311hecd8cb5_0  \n",
      "python-tzdata             2023.3             pyhd3eb1b0_0  \n",
      "pytorch                   2.2.0           cpu_py311he1daf47_0  \n",
      "pytz                      2023.3.post1    py311hecd8cb5_0  \n",
      "pyyaml                    6.0.1           py311h6c40b1e_0  \n",
      "pyzmq                     25.1.2          py311hcec6c5f_0  \n",
      "qt-main                   5.15.2              hf83fbd5_10  \n",
      "qtconsole                 5.5.1           py311hecd8cb5_0  \n",
      "qtpy                      2.4.1           py311hecd8cb5_0  \n",
      "readline                  8.2                  hca72f7f_0  \n",
      "referencing               0.30.2          py311hecd8cb5_0  \n",
      "regex                     2023.10.3       py311h6c40b1e_0  \n",
      "requests                  2.31.0          py311hecd8cb5_1  \n",
      "rfc3339-validator         0.1.4           py311hecd8cb5_0  \n",
      "rfc3986-validator         0.1.1           py311hecd8cb5_0  \n",
      "rpds-py                   0.10.6          py311hf2ad997_0  \n",
      "safetensors               0.4.2           py311h9c86198_0  \n",
      "send2trash                1.8.2           py311hecd8cb5_0  \n",
      "setuptools                68.2.2          py311hecd8cb5_0  \n",
      "sip                       6.7.12          py311hcec6c5f_0  \n",
      "six                       1.16.0             pyhd3eb1b0_1  \n",
      "sniffio                   1.3.0           py311hecd8cb5_0  \n",
      "soupsieve                 2.5             py311hecd8cb5_0  \n",
      "sqlite                    3.41.2               h6c40b1e_0  \n",
      "stack_data                0.2.0              pyhd3eb1b0_0  \n",
      "sympy                     1.12            py311hecd8cb5_0  \n",
      "tbb                       2021.8.0             ha357a0b_0  \n",
      "terminado                 0.17.1          py311hecd8cb5_0  \n",
      "tinycss2                  1.2.1           py311hecd8cb5_0  \n",
      "tk                        8.6.12               h5d9f67b_0  \n",
      "tokenizers                0.15.1          py311h5240035_0  \n",
      "tornado                   6.3.3           py311h6c40b1e_0  \n",
      "tqdm                      4.65.0          py311h85bffb1_0  \n",
      "traitlets                 5.7.1           py311hecd8cb5_0  \n",
      "transformers              4.37.2          py311hecd8cb5_0  \n",
      "types-pytz                2022.4.0.0      py311hecd8cb5_1  \n",
      "typing-extensions         4.9.0           py311hecd8cb5_1  \n",
      "typing_extensions         4.9.0           py311hecd8cb5_1  \n",
      "tzdata                    2024a                h04d1e81_0  \n",
      "urllib3                   2.1.0           py311hecd8cb5_1  \n",
      "wcwidth                   0.2.5              pyhd3eb1b0_0  \n",
      "webencodings              0.5.1           py311hecd8cb5_1  \n",
      "websocket-client          0.58.0          py311hecd8cb5_4  \n",
      "wheel                     0.41.2          py311hecd8cb5_0  \n",
      "widgetsnbextension        4.0.10          py311hecd8cb5_0  \n",
      "xz                        5.4.6                h6c40b1e_0  \n",
      "yaml                      0.2.5                haf1e3a3_0  \n",
      "zeromq                    4.3.5                hcec6c5f_0  \n",
      "zipp                      3.17.0          py311hecd8cb5_0  \n",
      "zlib                      1.2.13               h4dc903c_0  \n",
      "zstd                      1.5.5                hc035e20_0  \n",
      "\n",
      "Note: you may need to restart the kernel to use updated packages.\n"
     ]
    }
   ],
   "source": [
    "%conda list"
   ]
  },
  {
   "cell_type": "code",
   "execution_count": 2,
   "id": "ee067451-fe31-46c0-b65d-7ed76eaaf8f5",
   "metadata": {},
   "outputs": [
    {
     "name": "stdout",
     "output_type": "stream",
     "text": [
      "Intel MKL WARNING: Support of Intel(R) Streaming SIMD Extensions 4.2 (Intel(R) SSE4.2) enabled only processors has been deprecated. Intel oneAPI Math Kernel Library 2025.0 will require Intel(R) Advanced Vector Extensions (Intel(R) AVX) instructions.\n",
      "Intel MKL WARNING: Support of Intel(R) Streaming SIMD Extensions 4.2 (Intel(R) SSE4.2) enabled only processors has been deprecated. Intel oneAPI Math Kernel Library 2025.0 will require Intel(R) Advanced Vector Extensions (Intel(R) AVX) instructions.\n"
     ]
    }
   ],
   "source": [
    "from transformers.utils import logging\n",
    "logging.set_verbosity_error()"
   ]
  },
  {
   "cell_type": "code",
   "execution_count": 3,
   "id": "b4a959b8-5723-47fb-85c0-4241f8780d57",
   "metadata": {},
   "outputs": [],
   "source": [
    "from transformers import pipeline"
   ]
  },
  {
   "cell_type": "code",
   "execution_count": 5,
   "id": "75c0923c-4731-490f-ba44-3b788d7ec89c",
   "metadata": {},
   "outputs": [
    {
     "data": {
      "application/vnd.jupyter.widget-view+json": {
       "model_id": "aff578c5d83141909af2b4cf49f6f404",
       "version_major": 2,
       "version_minor": 0
      },
      "text/plain": [
       "pytorch_model.bin:   0%|          | 0.00/730M [00:00<?, ?B/s]"
      ]
     },
     "metadata": {},
     "output_type": "display_data"
    },
    {
     "data": {
      "application/vnd.jupyter.widget-view+json": {
       "model_id": "21f7ce009d634df092e11ad0d33c1983",
       "version_major": 2,
       "version_minor": 0
      },
      "text/plain": [
       "generation_config.json:   0%|          | 0.00/347 [00:00<?, ?B/s]"
      ]
     },
     "metadata": {},
     "output_type": "display_data"
    },
    {
     "data": {
      "application/vnd.jupyter.widget-view+json": {
       "model_id": "0bf4d6437ed14338b73ec5276bbffe5c",
       "version_major": 2,
       "version_minor": 0
      },
      "text/plain": [
       "tokenizer_config.json:   0%|          | 0.00/1.15k [00:00<?, ?B/s]"
      ]
     },
     "metadata": {},
     "output_type": "display_data"
    },
    {
     "data": {
      "application/vnd.jupyter.widget-view+json": {
       "model_id": "a7a1460093c3433e8f27592b43cef321",
       "version_major": 2,
       "version_minor": 0
      },
      "text/plain": [
       "vocab.json:   0%|          | 0.00/127k [00:00<?, ?B/s]"
      ]
     },
     "metadata": {},
     "output_type": "display_data"
    },
    {
     "data": {
      "application/vnd.jupyter.widget-view+json": {
       "model_id": "1619bea4a4474aa781aa7883416ad6c2",
       "version_major": 2,
       "version_minor": 0
      },
      "text/plain": [
       "merges.txt:   0%|          | 0.00/62.9k [00:00<?, ?B/s]"
      ]
     },
     "metadata": {},
     "output_type": "display_data"
    },
    {
     "data": {
      "application/vnd.jupyter.widget-view+json": {
       "model_id": "5a7d65b252d1426790f54e59486fed7d",
       "version_major": 2,
       "version_minor": 0
      },
      "text/plain": [
       "added_tokens.json:   0%|          | 0.00/16.0 [00:00<?, ?B/s]"
      ]
     },
     "metadata": {},
     "output_type": "display_data"
    },
    {
     "data": {
      "application/vnd.jupyter.widget-view+json": {
       "model_id": "e2e3d970f8fc45668bb19493a2f808a0",
       "version_major": 2,
       "version_minor": 0
      },
      "text/plain": [
       "special_tokens_map.json:   0%|          | 0.00/772 [00:00<?, ?B/s]"
      ]
     },
     "metadata": {},
     "output_type": "display_data"
    },
    {
     "data": {
      "application/vnd.jupyter.widget-view+json": {
       "model_id": "96568260b0164beb9affebf4ab2a3252",
       "version_major": 2,
       "version_minor": 0
      },
      "text/plain": [
       "tokenizer.json:   0%|          | 0.00/310k [00:00<?, ?B/s]"
      ]
     },
     "metadata": {},
     "output_type": "display_data"
    }
   ],
   "source": [
    "chatbot = pipeline(task=\"conversational\",\n",
    "                   model=\"facebook/blenderbot-400M-distill\")"
   ]
  },
  {
   "cell_type": "code",
   "execution_count": 6,
   "id": "4dad5cec-8bdb-49e0-b22c-82f5bfc27b21",
   "metadata": {},
   "outputs": [],
   "source": [
    "user_message = \"\"\"\n",
    "What are some fun activities I can do in the winter?\n",
    "\"\"\""
   ]
  },
  {
   "cell_type": "code",
   "execution_count": 7,
   "id": "e970057b-c28b-4b4a-8694-e102add1d8be",
   "metadata": {},
   "outputs": [],
   "source": [
    "from transformers import Conversation"
   ]
  },
  {
   "cell_type": "code",
   "execution_count": 8,
   "id": "54bf7947-ef5b-4eb4-a3d6-cf65e84ed383",
   "metadata": {},
   "outputs": [],
   "source": [
    "conversation = Conversation(user_message)"
   ]
  },
  {
   "cell_type": "code",
   "execution_count": 9,
   "id": "fed46f14-9f61-4287-b29c-8937a10d4e3f",
   "metadata": {},
   "outputs": [
    {
     "name": "stdout",
     "output_type": "stream",
     "text": [
      "Conversation id: a8587bdc-cd46-4594-952a-60a04a2d0213\n",
      "user: \n",
      "What are some fun activities I can do in the winter?\n",
      "\n",
      "\n"
     ]
    }
   ],
   "source": [
    "print(conversation)"
   ]
  },
  {
   "cell_type": "code",
   "execution_count": 10,
   "id": "dbaa2165-345d-4877-ab8e-e23e497363e7",
   "metadata": {},
   "outputs": [],
   "source": [
    "conversation_with_blenderbot_assistant = chatbot(conversation)"
   ]
  },
  {
   "cell_type": "code",
   "execution_count": 11,
   "id": "058043c1-418b-45d7-8b30-28ce6dabddba",
   "metadata": {},
   "outputs": [
    {
     "name": "stdout",
     "output_type": "stream",
     "text": [
      "Conversation id: a8587bdc-cd46-4594-952a-60a04a2d0213\n",
      "user: \n",
      "What are some fun activities I can do in the winter?\n",
      "\n",
      "assistant:  I like snowboarding and skiing.  What do you like to do in winter?\n",
      "\n"
     ]
    }
   ],
   "source": [
    "print(conversation_with_blenderbot_assistant)"
   ]
  },
  {
   "cell_type": "code",
   "execution_count": 12,
   "id": "81a1c020-c055-4434-a7bc-aacd7cbb20ff",
   "metadata": {},
   "outputs": [],
   "source": [
    "user_message2 = \"\"\"\n",
    "When is the best time to buy an airline ticket from Denver, Colorado to Puerto Vallarta Mexico?\n",
    "\"\"\""
   ]
  },
  {
   "cell_type": "code",
   "execution_count": 13,
   "id": "4abc1113-ba78-4521-b41f-e413462e227e",
   "metadata": {},
   "outputs": [
    {
     "ename": "SyntaxError",
     "evalue": "unexpected character after line continuation character (425094809.py, line 1)",
     "output_type": "error",
     "traceback": [
      "\u001b[0;36m  Cell \u001b[0;32mIn[13], line 1\u001b[0;36m\u001b[0m\n\u001b[0;31m    conversation2 = Conversation(user_message2)\\ print(conversation2)\u001b[0m\n\u001b[0m                                                ^\u001b[0m\n\u001b[0;31mSyntaxError\u001b[0m\u001b[0;31m:\u001b[0m unexpected character after line continuation character\n"
     ]
    }
   ],
   "source": [
    "conversation2 = Conversation(user_message2)\\ print(conversation2)"
   ]
  },
  {
   "cell_type": "code",
   "execution_count": 14,
   "id": "7b580512-acd6-44c6-ad54-b2f547efa9f8",
   "metadata": {},
   "outputs": [],
   "source": [
    "conversation2 = Conversation(user_message2)"
   ]
  },
  {
   "cell_type": "code",
   "execution_count": 15,
   "id": "8935469d-c3a1-47c8-a515-22076a91bcce",
   "metadata": {},
   "outputs": [
    {
     "name": "stdout",
     "output_type": "stream",
     "text": [
      "Conversation id: f25d7efa-498f-4247-9aac-bffed477eb60\n",
      "user: \n",
      "When is the best time to buy an airline ticket from Denver, Colorado to Puerto Vallarta Mexico?\n",
      "\n",
      "\n"
     ]
    }
   ],
   "source": [
    "print(conversation2)"
   ]
  },
  {
   "cell_type": "code",
   "execution_count": 16,
   "id": "da626f74-9987-4c8c-8425-40d367febe27",
   "metadata": {},
   "outputs": [],
   "source": [
    "second_conversation_with_blenderbot_assistant = chatbot(conversation2)"
   ]
  },
  {
   "cell_type": "code",
   "execution_count": 17,
   "id": "0f35e778-ece9-442a-98ae-d44a26e51326",
   "metadata": {},
   "outputs": [
    {
     "name": "stdout",
     "output_type": "stream",
     "text": [
      "Conversation id: f25d7efa-498f-4247-9aac-bffed477eb60\n",
      "user: \n",
      "When is the best time to buy an airline ticket from Denver, Colorado to Puerto Vallarta Mexico?\n",
      "\n",
      "assistant:  Denver is the most populous city in the United States, so it would be a good time to go there.\n",
      "\n"
     ]
    }
   ],
   "source": [
    "print(second_conversation_with_blenderbot_assistant)"
   ]
  },
  {
   "cell_type": "code",
   "execution_count": 18,
   "id": "0d2ec594-345f-4bdf-9f4a-89569a089186",
   "metadata": {},
   "outputs": [
    {
     "name": "stdout",
     "output_type": "stream",
     "text": [
      "Conversation id: 6c2e22a2-ad17-443b-8200-af6b55902f84\n",
      "user: What else do you recommend?\n",
      "assistant:  Well, I'm not sure what else I can think of, but I do know that I'm going to miss her.\n",
      "\n"
     ]
    }
   ],
   "source": [
    "print(chatbot(Conversation(\"What else do you recommend?\")))"
   ]
  },
  {
   "cell_type": "code",
   "execution_count": 20,
   "id": "1fb17539-3436-48b8-9bdd-6e36a78ef7bc",
   "metadata": {},
   "outputs": [],
   "source": [
    "conversation.add_message({\"role\": \"user\", \"content\":\"\"\"what else do you recommend?\"\"\"})"
   ]
  },
  {
   "cell_type": "code",
   "execution_count": 21,
   "id": "c5d3eea4-b43a-4c7b-b6ac-9701cf896d90",
   "metadata": {},
   "outputs": [
    {
     "name": "stdout",
     "output_type": "stream",
     "text": [
      "Conversation id: a8587bdc-cd46-4594-952a-60a04a2d0213\n",
      "user: \n",
      "What are some fun activities I can do in the winter?\n",
      "\n",
      "assistant:  I like snowboarding and skiing.  What do you like to do in winter?\n",
      "user: what else do you recommend?\n",
      "\n"
     ]
    }
   ],
   "source": [
    "print(conversation)"
   ]
  },
  {
   "cell_type": "code",
   "execution_count": 22,
   "id": "051f5964-46ba-4045-997f-a076a85ca2d8",
   "metadata": {},
   "outputs": [
    {
     "name": "stdout",
     "output_type": "stream",
     "text": [
      "Conversation id: a8587bdc-cd46-4594-952a-60a04a2d0213\n",
      "user: \n",
      "What are some fun activities I can do in the winter?\n",
      "\n",
      "assistant:  I like snowboarding and skiing.  What do you like to do in winter?\n",
      "user: what else do you recommend?\n",
      "assistant:  Snowboarding is a lot of fun.  You can do it indoors or outdoors.\n",
      "\n"
     ]
    }
   ],
   "source": [
    "print(chatbot(conversation))"
   ]
  },
  {
   "cell_type": "code",
   "execution_count": null,
   "id": "7149e450-3066-4ecf-b3d3-05af33b46654",
   "metadata": {},
   "outputs": [],
   "source": []
  }
 ],
 "metadata": {
  "kernelspec": {
   "display_name": "Python (nlp-env)",
   "language": "python",
   "name": "nlp-env"
  },
  "language_info": {
   "codemirror_mode": {
    "name": "ipython",
    "version": 3
   },
   "file_extension": ".py",
   "mimetype": "text/x-python",
   "name": "python",
   "nbconvert_exporter": "python",
   "pygments_lexer": "ipython3",
   "version": "3.11.8"
  }
 },
 "nbformat": 4,
 "nbformat_minor": 5
}
